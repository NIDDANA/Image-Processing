{
 "cells": [
  {
   "cell_type": "code",
   "execution_count": 1,
   "id": "df468f59",
   "metadata": {},
   "outputs": [],
   "source": [
    "import cv2"
   ]
  },
  {
   "cell_type": "code",
   "execution_count": 2,
   "id": "a3d57c73",
   "metadata": {},
   "outputs": [
    {
     "data": {
      "text/plain": [
       "-1"
      ]
     },
     "execution_count": 2,
     "metadata": {},
     "output_type": "execute_result"
    }
   ],
   "source": [
    "img = cv2.imread(\"F:/photos/face2.jpg\")\n",
    "cv2.imshow(\"image\", img)\n",
    "cv2.waitKey(0)"
   ]
  },
  {
   "cell_type": "markdown",
   "id": "869220ce",
   "metadata": {},
   "source": [
    "# Resizeing the video"
   ]
  },
  {
   "cell_type": "code",
   "execution_count": 3,
   "id": "37185072",
   "metadata": {},
   "outputs": [
    {
     "data": {
      "text/plain": [
       "100"
      ]
     },
     "execution_count": 3,
     "metadata": {},
     "output_type": "execute_result"
    }
   ],
   "source": [
    "def rescaleFrame(frame, scale= 0.75):  # it takes the frame and kills the frame\n",
    "    width = int(frame.shape[1] * scale)  #shape[1] is width of the image\n",
    "    height = int(frame.shape[0] * scale)  #shape[0] is height of the image\n",
    "    dimensions = (width, height)\n",
    "    \n",
    "    return cv2.resize(frame, dimensions, interpolation = cv2.INTER_AREA)\n",
    "\n",
    "#reading the videos\n",
    "capture = cv2.VideoCapture(\"F:/videos/videoplayback.mp4\")\n",
    "\n",
    "while True:\n",
    "    isTrue, frame = capture.read()\n",
    "    \n",
    "    frame_resized = rescaleFrame(frame)\n",
    "    \n",
    "    cv2.imshow(\"Video\", frame)\n",
    "    cv2.imshow(\"video Resized\", frame_resized)\n",
    "    \n",
    "    if cv2.waitKey(20) & 0xFF == ord(\"d\"):\n",
    "        break\n",
    "\n",
    "capture.release()\n",
    "cv2.destroyAllWindows\n",
    "cv2.waitKey(0)"
   ]
  },
  {
   "cell_type": "code",
   "execution_count": null,
   "id": "52d0036e",
   "metadata": {},
   "outputs": [],
   "source": []
  }
 ],
 "metadata": {
  "kernelspec": {
   "display_name": "Python 3 (ipykernel)",
   "language": "python",
   "name": "python3"
  },
  "language_info": {
   "codemirror_mode": {
    "name": "ipython",
    "version": 3
   },
   "file_extension": ".py",
   "mimetype": "text/x-python",
   "name": "python",
   "nbconvert_exporter": "python",
   "pygments_lexer": "ipython3",
   "version": "3.10.7"
  }
 },
 "nbformat": 4,
 "nbformat_minor": 5
}
