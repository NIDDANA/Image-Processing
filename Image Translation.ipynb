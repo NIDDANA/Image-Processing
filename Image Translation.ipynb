{
 "cells": [
  {
   "cell_type": "code",
   "execution_count": 1,
   "id": "1d361be9",
   "metadata": {},
   "outputs": [],
   "source": [
    "import cv2\n",
    "import numpy as np\n",
    "import pandas as pd\n",
    "import matplotlib.pyplot as plt"
   ]
  },
  {
   "cell_type": "code",
   "execution_count": 2,
   "id": "ab794ea6",
   "metadata": {},
   "outputs": [
    {
     "data": {
      "text/plain": [
       "-1"
      ]
     },
     "execution_count": 2,
     "metadata": {},
     "output_type": "execute_result"
    }
   ],
   "source": [
    "pic  = cv2.imread(\"G:/c1.jpg\")\n",
    "cv2.imshow(\"image\", pic)\n",
    "cv2.waitKey(0)"
   ]
  },
  {
   "cell_type": "code",
   "execution_count": 3,
   "id": "b0a477ba",
   "metadata": {},
   "outputs": [
    {
     "data": {
      "text/plain": [
       "-1"
      ]
     },
     "execution_count": 3,
     "metadata": {},
     "output_type": "execute_result"
    }
   ],
   "source": [
    "def translate(pic, x, y):\n",
    "    trasMat = np.float32([[1,0,x], [0,1,y]])\n",
    "    dimensions = (pic.shape[1], pic.shape[0])\n",
    "    return cv2.warpAffine(pic, trasMat, dimensions)\n",
    "\n",
    "\n",
    "\n",
    "\n",
    "translated = translate(pic, 100, 50)\n",
    "cv2.imshow(\"translated\", translated)\n",
    "cv2.waitKey(0)"
   ]
  },
  {
   "cell_type": "code",
   "execution_count": 4,
   "id": "61943a47",
   "metadata": {},
   "outputs": [
    {
     "data": {
      "text/plain": [
       "-1"
      ]
     },
     "execution_count": 4,
     "metadata": {},
     "output_type": "execute_result"
    }
   ],
   "source": [
    "translated = translate(pic, -100, 50)\n",
    "cv2.imshow(\"translated\", translated)\n",
    "cv2.waitKey(0)"
   ]
  },
  {
   "cell_type": "code",
   "execution_count": 6,
   "id": "c6f722ea",
   "metadata": {},
   "outputs": [
    {
     "data": {
      "text/plain": [
       "-1"
      ]
     },
     "execution_count": 6,
     "metadata": {},
     "output_type": "execute_result"
    }
   ],
   "source": [
    "def rotate(pic, angle, rotPoint=None):\n",
    "    (height, width) = pic.shape[:2]\n",
    "    \n",
    "    if rotPoint is None:\n",
    "        rotPoint = (width//2, height//2)\n",
    "        \n",
    "    rotMat = cv2.getRotationMatrix2D(rotPoint, angle, 1.0)\n",
    "    dimensions = (width, height)\n",
    "    \n",
    "    return cv2.warpAffine(pic, rotMat, dimensions)\n",
    "\n",
    "rotated = rotate(pic, 45)\n",
    "\n",
    "cv2.imshow(\"rotated\", rotated)\n",
    "cv2.waitKey(0)"
   ]
  },
  {
   "cell_type": "code",
   "execution_count": 7,
   "id": "16dbd6f2",
   "metadata": {},
   "outputs": [
    {
     "data": {
      "text/plain": [
       "-1"
      ]
     },
     "execution_count": 7,
     "metadata": {},
     "output_type": "execute_result"
    }
   ],
   "source": [
    "def rotate(pic, angle, rotPoint=None):\n",
    "    (height, width) = pic.shape[:2]\n",
    "    \n",
    "    if rotPoint is None:\n",
    "        rotPoint = (width//2, height//2)\n",
    "        \n",
    "    rotMat = cv2.getRotationMatrix2D(rotPoint, angle, 1.0)\n",
    "    dimensions = (width, height)\n",
    "    \n",
    "    return cv2.warpAffine(pic, rotMat, dimensions)\n",
    "\n",
    "rotated = rotate(pic, -180)\n",
    "\n",
    "cv2.imshow(\"rotated\", rotated)\n",
    "cv2.waitKey(0)"
   ]
  },
  {
   "cell_type": "code",
   "execution_count": 8,
   "id": "5d302728",
   "metadata": {},
   "outputs": [
    {
     "data": {
      "text/plain": [
       "-1"
      ]
     },
     "execution_count": 8,
     "metadata": {},
     "output_type": "execute_result"
    }
   ],
   "source": [
    "rotate_rotate = rotate(rotated, 90)\n",
    "cv2.imshow(\"rotated\", rotate_rotate)\n",
    "cv2.waitKey(0)"
   ]
  },
  {
   "cell_type": "code",
   "execution_count": 11,
   "id": "9eb18af1",
   "metadata": {},
   "outputs": [
    {
     "data": {
      "text/plain": [
       "-1"
      ]
     },
     "execution_count": 11,
     "metadata": {},
     "output_type": "execute_result"
    }
   ],
   "source": [
    "resize = cv2.resize(pic, (500, 500), interpolation = cv2.INTER_LINEAR)\n",
    "cv2.imshow(\"resize\", resize)\n",
    "cv2.waitKey(0)"
   ]
  },
  {
   "cell_type": "code",
   "execution_count": 12,
   "id": "e9138fe5",
   "metadata": {},
   "outputs": [
    {
     "data": {
      "text/plain": [
       "-1"
      ]
     },
     "execution_count": 12,
     "metadata": {},
     "output_type": "execute_result"
    }
   ],
   "source": [
    "#flipping\n",
    "\n",
    "flip = cv2.flip(pic, 0)\n",
    "cv2.imshow(\"flip\", flip)\n",
    "cv2.waitKey(0)"
   ]
  },
  {
   "cell_type": "code",
   "execution_count": 16,
   "id": "10b419d9",
   "metadata": {},
   "outputs": [
    {
     "data": {
      "text/plain": [
       "-1"
      ]
     },
     "execution_count": 16,
     "metadata": {},
     "output_type": "execute_result"
    }
   ],
   "source": [
    "flipp = cv2.flip(pic, 0)\n",
    "cv2.imshow(\"flip\", flip)\n",
    "\n",
    "flip = cv2.flip(pic, 1)\n",
    "cv2.imshow(\"flip\", flipp)\n",
    "\n",
    "flippp = cv2.flip(pic, -1)\n",
    "cv2.imshow(\"flip\", flippp)\n",
    "\n",
    "\n",
    "cv2.waitKey(0)"
   ]
  },
  {
   "cell_type": "code",
   "execution_count": null,
   "id": "7717b1d2",
   "metadata": {},
   "outputs": [],
   "source": []
  }
 ],
 "metadata": {
  "kernelspec": {
   "display_name": "Python 3 (ipykernel)",
   "language": "python",
   "name": "python3"
  },
  "language_info": {
   "codemirror_mode": {
    "name": "ipython",
    "version": 3
   },
   "file_extension": ".py",
   "mimetype": "text/x-python",
   "name": "python",
   "nbconvert_exporter": "python",
   "pygments_lexer": "ipython3",
   "version": "3.10.7"
  }
 },
 "nbformat": 4,
 "nbformat_minor": 5
}
