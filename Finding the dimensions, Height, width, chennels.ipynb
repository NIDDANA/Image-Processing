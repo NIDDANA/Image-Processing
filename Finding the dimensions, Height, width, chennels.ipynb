{
 "cells": [
  {
   "cell_type": "code",
   "execution_count": 3,
   "id": "aec47561",
   "metadata": {},
   "outputs": [],
   "source": [
    "import matplotlib.pyplot as plt\n",
    "import numpy as np\n",
    "import cv2"
   ]
  },
  {
   "cell_type": "code",
   "execution_count": 13,
   "id": "ac3b9690",
   "metadata": {},
   "outputs": [],
   "source": [
    "img = cv2.imread(\"F:/face/cr3.jpg\")\n",
    "cv2.imshow(\"image\", img)\n",
    "cv2.waitKey()\n",
    "cv2.destroyAllWindows()"
   ]
  },
  {
   "cell_type": "code",
   "execution_count": 11,
   "id": "e4e779d2",
   "metadata": {},
   "outputs": [],
   "source": [
    "#importing the opencv module  \n",
    "import cv2  \n",
    "# using imread('path') and 1 denotes read as  color image  \n",
    "img = cv2.imread('F:/face/cr2.jpg',1)  \n",
    "#This is using for display the image  \n",
    "cv2.imshow('image',img)  \n",
    "cv2.waitKey() # This is necessary to be required so that the image doesn't close immediately.  \n",
    "#It will run continuously until the key press.  \n",
    "cv2.destroyAllWindows() "
   ]
  },
  {
   "cell_type": "markdown",
   "id": "7e889ceb",
   "metadata": {},
   "source": [
    "# resize the image"
   ]
  },
  {
   "cell_type": "code",
   "execution_count": 19,
   "id": "71211e73",
   "metadata": {},
   "outputs": [
    {
     "data": {
      "text/plain": [
       "-1"
      ]
     },
     "execution_count": 19,
     "metadata": {},
     "output_type": "execute_result"
    }
   ],
   "source": [
    "img_ = cv2.imread(r\"F:/face/cv3.jpg\")\n",
    "resize = cv2.resize(img, (250,500))\n",
    "cv2.imshow(\"image\", resize)\n",
    "cv2.waitKey(0)"
   ]
  },
  {
   "cell_type": "markdown",
   "id": "2b7cec33",
   "metadata": {},
   "source": [
    "# Rotate image by an angle"
   ]
  },
  {
   "cell_type": "code",
   "execution_count": 21,
   "id": "db8217e4",
   "metadata": {},
   "outputs": [],
   "source": [
    "pic = cv2.imread(\"F:/face/f4.jpg\")\n",
    "(row, cols) = pic.shape[:2]\n",
    "m = cv2.getRotationMatrix2D((cols/2, row/2), 45,1)\n",
    "res = cv2.warpAffine(pic, m, (row, cols))\n",
    "cv2.imshow(\"image\", res)\n",
    "cv2.waitKey(0)\n",
    "cv2.destroyAllWindows()"
   ]
  },
  {
   "cell_type": "code",
   "execution_count": 24,
   "id": "81536b6d",
   "metadata": {},
   "outputs": [],
   "source": [
    "#ratating the image counter clockwise\n",
    "image = cv2.rotate(pic, cv2.ROTATE_90_COUNTERCLOCKWISE)\n",
    "cv2.imshow(\"rotated\", image)\n",
    "cv2.waitKey()\n",
    "cv2.destroyAllWindows()"
   ]
  },
  {
   "cell_type": "markdown",
   "id": "33e197d7",
   "metadata": {},
   "source": [
    "# Splitting and merging image channels\n"
   ]
  },
  {
   "cell_type": "code",
   "execution_count": 22,
   "id": "d6d0637c",
   "metadata": {},
   "outputs": [],
   "source": [
    "b,g,r = cv2.split(pic)\n",
    "image = cv2.merge((b,g,r))\n",
    "b = image[:,:,0]\n",
    "g = image[:,:,1]\n",
    "r = image[:,:,2]\n"
   ]
  },
  {
   "cell_type": "code",
   "execution_count": 23,
   "id": "b5b7583a",
   "metadata": {},
   "outputs": [],
   "source": [
    "#sets all values in red channel as zero\n",
    "image[:,:,2] = 0"
   ]
  },
  {
   "cell_type": "markdown",
   "id": "44811a10",
   "metadata": {},
   "source": [
    "# Drawing circle"
   ]
  },
  {
   "cell_type": "code",
   "execution_count": 25,
   "id": "c0758152",
   "metadata": {},
   "outputs": [],
   "source": [
    "#cv2.circle(image, center_coordinates, radius, color, thickness)"
   ]
  },
  {
   "cell_type": "code",
   "execution_count": 27,
   "id": "1f39b127",
   "metadata": {},
   "outputs": [],
   "source": [
    "a = cv2.imread(\"F:/face/f4.jpg\")\n",
    "cv2.circle(a, (80,80), 55, (255,0,0), -1)\n",
    "cv2.imshow(\"image\", a)\n",
    "cv2.waitKey(0)\n",
    "cv2.destroyAllWindows()"
   ]
  },
  {
   "cell_type": "markdown",
   "id": "843101b5",
   "metadata": {},
   "source": [
    "# Drawing a rectangle"
   ]
  },
  {
   "cell_type": "code",
   "execution_count": 28,
   "id": "2340fb10",
   "metadata": {},
   "outputs": [],
   "source": [
    "#\tcv2.rectangle(image, start_point, end_point, color, thickness)"
   ]
  },
  {
   "cell_type": "code",
   "execution_count": 34,
   "id": "241be825",
   "metadata": {},
   "outputs": [],
   "source": [
    "img = cv2.imread(\"F:/face/f4.jpg\")\n",
    "cv2.rectangle(img, (15,15), (200,150), (0,255,200), 5)\n",
    "cv2.imshow(\"image\", img)\n",
    "cv2.waitKey(0)\n",
    "cv2.destroyAllWindows()"
   ]
  },
  {
   "cell_type": "code",
   "execution_count": null,
   "id": "ff427f0f",
   "metadata": {},
   "outputs": [],
   "source": []
  },
  {
   "cell_type": "markdown",
   "id": "59d726ba",
   "metadata": {},
   "source": [
    "# Drawing lines"
   ]
  },
  {
   "cell_type": "code",
   "execution_count": 35,
   "id": "fdfff738",
   "metadata": {},
   "outputs": [],
   "source": [
    "#cv2.line(image, start_point, end_point, color, thickness)"
   ]
  },
  {
   "cell_type": "code",
   "execution_count": 42,
   "id": "d2a208a7",
   "metadata": {},
   "outputs": [],
   "source": [
    "img = cv2.imread(\"F:/face/f2.jpg\")\n",
    "#defining the points for polylines\n",
    "pts = np.array([[150,200], [250,150], [150,100], [150,100]], np.int32)\n",
    "cv2.polylines(img, [pts], True, (0,255,255), 3)\n",
    "cv2.imshow(\"image\", img)\n",
    "cv2.waitKey(0)\n",
    "cv2.destroyAllWindows()"
   ]
  },
  {
   "cell_type": "code",
   "execution_count": null,
   "id": "072896e3",
   "metadata": {},
   "outputs": [],
   "source": []
  },
  {
   "cell_type": "markdown",
   "id": "9333915f",
   "metadata": {},
   "source": [
    "# Drawing polylines"
   ]
  },
  {
   "cell_type": "code",
   "execution_count": 43,
   "id": "011ad63c",
   "metadata": {},
   "outputs": [],
   "source": [
    "#cv2.polylines(image, arr, is_closed, color, thickness)\n"
   ]
  },
  {
   "cell_type": "code",
   "execution_count": null,
   "id": "d07bd0c5",
   "metadata": {},
   "outputs": [],
   "source": []
  }
 ],
 "metadata": {
  "kernelspec": {
   "display_name": "Python 3 (ipykernel)",
   "language": "python",
   "name": "python3"
  },
  "language_info": {
   "codemirror_mode": {
    "name": "ipython",
    "version": 3
   },
   "file_extension": ".py",
   "mimetype": "text/x-python",
   "name": "python",
   "nbconvert_exporter": "python",
   "pygments_lexer": "ipython3",
   "version": "3.10.7"
  }
 },
 "nbformat": 4,
 "nbformat_minor": 5
}
