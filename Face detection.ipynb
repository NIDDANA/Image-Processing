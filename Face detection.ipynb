{
 "cells": [
  {
   "cell_type": "code",
   "execution_count": 5,
   "id": "25b06b4e",
   "metadata": {},
   "outputs": [],
   "source": [
    "import cv2\n"
   ]
  },
  {
   "cell_type": "code",
   "execution_count": 3,
   "id": "9c0d0133",
   "metadata": {},
   "outputs": [
    {
     "data": {
      "text/plain": [
       "-1"
      ]
     },
     "execution_count": 3,
     "metadata": {},
     "output_type": "execute_result"
    }
   ],
   "source": [
    "img = cv2.imread(\"F:/face/cr3.jpg\")\n",
    "cv2.imshow(\"image\", img)\n",
    "cv2.waitKey(0)"
   ]
  },
  {
   "cell_type": "code",
   "execution_count": 9,
   "id": "5cc69787",
   "metadata": {},
   "outputs": [
    {
     "name": "stdout",
     "output_type": "stream",
     "text": [
      "no of faces found = 3\n"
     ]
    },
    {
     "data": {
      "text/plain": [
       "-1"
      ]
     },
     "execution_count": 9,
     "metadata": {},
     "output_type": "execute_result"
    }
   ],
   "source": [
    "gray = cv2.cvtColor(pic, cv2.COLOR_BGR2GRAY)\n",
    "#cv2.imshow(\"gray_image\", gray)\n",
    "#cv2.imshow(\"image\", img)\n",
    "\n",
    "haar_cascade = cv2.CascadeClassifier(\"haarcascade_frontalface_default.xml\" )\n",
    "\n",
    "face_rect = haar_cascade.detectMultiScale(gray, scaleFactor = 1.1, minNeighbors=5)\n",
    "print(f\"no of faces found = {len(face_rect)}\")\n",
    "\n",
    "for (x,y,w,h) in face_rect:\n",
    "    cv2.rectangle(pic, (x,y), (x+w, y+h), (0,255, 255), 2)\n",
    "    \n",
    "cv2.imshow(\"detected face\", pic)\n",
    "cv2.waitKey(0)"
   ]
  },
  {
   "cell_type": "code",
   "execution_count": 13,
   "id": "83f66000",
   "metadata": {},
   "outputs": [
    {
     "name": "stdout",
     "output_type": "stream",
     "text": [
      "NO OF FACEs = 3\n"
     ]
    },
    {
     "data": {
      "text/plain": [
       "-1"
      ]
     },
     "execution_count": 13,
     "metadata": {},
     "output_type": "execute_result"
    }
   ],
   "source": [
    "pic  = cv2.imread(\"F:/photos/deenu1.jpg\")\n",
    "graay = cv2.cvtColor(pic, cv2.COLOR_BGR2GRAY)\n",
    "\n",
    "haar = cv2.CascadeClassifier(\"haarcascade_frontalface_default.xml\")\n",
    "\n",
    "face_rect = haar.detectMultiScale(graay, scaleFactor=1.1, minNeighbors=5 )\n",
    "\n",
    "print(f\"NO OF FACEs = {len(face_rect)}\")\n",
    "\n",
    "for (x,y,w,h) in face_rect:\n",
    "    cv2.rectangle(pic, (x,y), (x+w, y+h), (0,255, 200), 2)\n",
    "\n",
    "cv2.imshow(\"detected face\", pic)\n",
    "cv2.waitKey(0)"
   ]
  },
  {
   "cell_type": "code",
   "execution_count": 11,
   "id": "6f177aab",
   "metadata": {},
   "outputs": [
    {
     "name": "stdout",
     "output_type": "stream",
     "text": [
      " no of faces = 0\n"
     ]
    },
    {
     "data": {
      "text/plain": [
       "-1"
      ]
     },
     "execution_count": 11,
     "metadata": {},
     "output_type": "execute_result"
    }
   ],
   "source": [
    "im = cv2.imread(\"F:/photos/i.jpg\")\n",
    "\n",
    "gray = cv2.cvtColor(im, cv2.COLOR_BGR2GRAY)\n",
    "\n",
    "haar = cv2.CascadeClassifier(\"haarcascade_frontalface_default.xml\")\n",
    "face = haar.detectMultiScale(gray, scaleFactor=1.1, minNeighbors=20)\n",
    "\n",
    "print(f\" no of faces = {len(face)}\")\n",
    "\n",
    "for (x,y,w,h)  in face:\n",
    "    cv2.rectangle(im, (x,y), (x+w, y+h), (0, 255, 200), 2)\n",
    "    \n",
    "cv2.imshow(\"detectec face\", im)\n",
    "cv2.waitKey(0)"
   ]
  },
  {
   "cell_type": "code",
   "execution_count": 4,
   "id": "8dcbf4cf",
   "metadata": {},
   "outputs": [
    {
     "ename": "SyntaxError",
     "evalue": "'(' was never closed (2370872127.py, line 8)",
     "output_type": "error",
     "traceback": [
      "\u001b[1;36m  Cell \u001b[1;32mIn [4], line 8\u001b[1;36m\u001b[0m\n\u001b[1;33m    detect = face.detectMultiScale(gray, scaleFactor=1.1,\u001b[0m\n\u001b[1;37m                                  ^\u001b[0m\n\u001b[1;31mSyntaxError\u001b[0m\u001b[1;31m:\u001b[0m '(' was never closed\n"
     ]
    }
   ],
   "source": [
    "vid = cv2.VideoCapture(0)\n",
    "face = cv2.CascadeClassifier(\"haarcascade_frontalface_default.xml\")\n",
    "while True:\n",
    "    ret, frame = vid.read()\n",
    "    \n",
    "    gray = cv2.cvtColor(frame, cv2.COLOR_BGR2GRAY)\n",
    "    \n",
    "    detect = face.detectMultiScale(gray, scaleFactor=1.1,\n",
    "                                  minNeighbors=5, minSize=(30,30),\n",
    "                                  #flags=cv2.cv.CV_HAAR_SCALE_IMAGE)\n",
    "    \n",
    "    for (x,y,w,h) in detect:\n",
    "        cv2.rectangle(frame, (x,y), (x+w, y+h), (0,255,200),2)\n",
    "        \n",
    "    \n",
    "    cv2.imshow(\"video\", frame)\n",
    "    \n",
    "    if cv2.waitKey(27) & 0xFF == ord(\"q\"):\n",
    "        break\n",
    "        \n",
    "vid.release()\n",
    "cv2.destroyAllWindows()\n",
    "    "
   ]
  },
  {
   "cell_type": "code",
   "execution_count": 7,
   "id": "bbed8eb9",
   "metadata": {},
   "outputs": [],
   "source": [
    "import cv2\n",
    "import sys\n",
    "\n",
    "cascPath = sys.argv[1]\n",
    "faceCascade = cv2.CascadeClassifier(\"haarcascade_frontalface_default.xml\")\n",
    "\n",
    "video_capture = cv2.VideoCapture(0)\n",
    "\n",
    "while True:\n",
    "    # Capture frame-by-frame\n",
    "    ret, frame = video_capture.read()\n",
    "\n",
    "    gray = cv2.cvtColor(frame, cv2.COLOR_BGR2GRAY)\n",
    "\n",
    "    faces = faceCascade.detectMultiScale(\n",
    "        gray,\n",
    "        scaleFactor=1.1,\n",
    "        minNeighbors=5,\n",
    "        minSize=(30, 30),\n",
    "        #flags=cv2.cv.CV_HAAR_SCALE_IMAGE\n",
    "    )\n",
    "\n",
    "    # Draw a rectangle around the faces\n",
    "    for (x, y, w, h) in faces:\n",
    "        cv2.rectangle(frame, (x, y), (x+w, y+h), (0, 255, 0), 2)\n",
    "\n",
    "    # Display the resulting frame\n",
    "    cv2.imshow('Video', frame)\n",
    "\n",
    "    if cv2.waitKey(1) & 0xFF == ord('q'):\n",
    "        break\n",
    "\n",
    "# When everything is done, release the capture\n",
    "video_capture.release()\n",
    "cv2.destroyAllWindows()"
   ]
  },
  {
   "cell_type": "code",
   "execution_count": null,
   "id": "eb8668df",
   "metadata": {},
   "outputs": [],
   "source": []
  }
 ],
 "metadata": {
  "kernelspec": {
   "display_name": "Python 3 (ipykernel)",
   "language": "python",
   "name": "python3"
  },
  "language_info": {
   "codemirror_mode": {
    "name": "ipython",
    "version": 3
   },
   "file_extension": ".py",
   "mimetype": "text/x-python",
   "name": "python",
   "nbconvert_exporter": "python",
   "pygments_lexer": "ipython3",
   "version": "3.10.7"
  }
 },
 "nbformat": 4,
 "nbformat_minor": 5
}
